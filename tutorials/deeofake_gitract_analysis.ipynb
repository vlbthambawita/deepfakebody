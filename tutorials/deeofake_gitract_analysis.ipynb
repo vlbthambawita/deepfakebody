{
 "metadata": {
  "language_info": {
   "codemirror_mode": {
    "name": "ipython",
    "version": 3
   },
   "file_extension": ".py",
   "mimetype": "text/x-python",
   "name": "python",
   "nbconvert_exporter": "python",
   "pygments_lexer": "ipython3",
   "version": 3
  },
  "orig_nbformat": 2
 },
 "nbformat": 4,
 "nbformat_minor": 2,
 "cells": [
  {
   "cell_type": "code",
   "execution_count": null,
   "metadata": {},
   "outputs": [],
   "source": [
    "dir_1k = \"/work/vajira/DL/checkpoints/results/test_1k\"\n",
    "dir_1k_ema = \"/work/vajira/DL/checkpoints/results/test_1k_ema\"\n",
    "dir_1k_mr = \"/work/vajira/DL/checkpoints/results/test_1k_mr\""
   ]
  },
  {
   "cell_type": "code",
   "execution_count": null,
   "metadata": {},
   "outputs": [],
   "source": []
  }
 ]
}